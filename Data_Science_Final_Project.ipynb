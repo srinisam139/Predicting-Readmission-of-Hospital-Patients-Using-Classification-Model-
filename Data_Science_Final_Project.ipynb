{
 "cells": [
  {
   "cell_type": "markdown",
   "id": "179a3af5",
   "metadata": {},
   "source": [
    "                                       DATA SCIENCE FINAL PROJECT    "
   ]
  },
  {
   "cell_type": "code",
   "execution_count": 1,
   "id": "eff6af49",
   "metadata": {},
   "outputs": [
    {
     "name": "stdout",
     "output_type": "stream",
     "text": [
      "/Users/sam/Desktop/Data Science/Project\n"
     ]
    }
   ],
   "source": [
    "#DataFrame and Numpy Package\n",
    "import pandas as pd\n",
    "import numpy as np\n",
    "#Plotting packages\n",
    "import seaborn as sns\n",
    "import matplotlib.pyplot as plt\n",
    "#Scaling and missing values replacing packages\n",
    "from sklearn.impute import KNNImputer\n",
    "from sklearn.preprocessing import StandardScaler, MinMaxScaler, LabelEncoder\n",
    "#Feature selection packages\n",
    "from mlxtend.feature_selection import SequentialFeatureSelector as SFS\n",
    "from mlxtend.plotting import plot_sequential_feature_selection as plot_sfs\n",
    "#Model packages\n",
    "from sklearn.linear_model import LinearRegression, LogisticRegression\n",
    "from sklearn.tree import DecisionTreeClassifier\n",
    "from sklearn.ensemble import RandomForestClassifier\n",
    "#Model Evaluation Packages\n",
    "from sklearn import tree,metrics\n",
    "from sklearn.neighbors import KNeighborsClassifier\n",
    "from sklearn.metrics import roc_auc_score, accuracy_score,precision_score,recall_score\n",
    "from sklearn.metrics import roc_curve, precision_recall_curve, f1_score, auc, classification_report\n",
    "\n",
    "import os\n",
    "working_directory = os.getcwd()\n",
    "print(working_directory)"
   ]
  },
  {
   "cell_type": "markdown",
   "id": "1b03bf34",
   "metadata": {},
   "source": [
    "__Note:__\n",
    "    **Run the model from start (Training Dataset) to run the visualization of the model implemented below for Training, Validation and Testing**"
   ]
  },
  {
   "cell_type": "markdown",
   "id": "b5f1a77b",
   "metadata": {},
   "source": [
    "## Training Dataset"
   ]
  },
  {
   "cell_type": "code",
   "execution_count": 2,
   "id": "7728451c",
   "metadata": {},
   "outputs": [],
   "source": [
    "df = pd.read_csv(\"diabetic_data_train.csv\")"
   ]
  },
  {
   "cell_type": "code",
   "execution_count": 3,
   "id": "e359cd8f",
   "metadata": {},
   "outputs": [
    {
     "data": {
      "text/html": [
       "<div>\n",
       "<style scoped>\n",
       "    .dataframe tbody tr th:only-of-type {\n",
       "        vertical-align: middle;\n",
       "    }\n",
       "\n",
       "    .dataframe tbody tr th {\n",
       "        vertical-align: top;\n",
       "    }\n",
       "\n",
       "    .dataframe thead th {\n",
       "        text-align: right;\n",
       "    }\n",
       "</style>\n",
       "<table border=\"1\" class=\"dataframe\">\n",
       "  <thead>\n",
       "    <tr style=\"text-align: right;\">\n",
       "      <th></th>\n",
       "      <th>Unnamed: 0</th>\n",
       "      <th>encounter_id</th>\n",
       "      <th>patient_nbr</th>\n",
       "      <th>race</th>\n",
       "      <th>gender</th>\n",
       "      <th>age</th>\n",
       "      <th>weight</th>\n",
       "      <th>admission_type_id</th>\n",
       "      <th>discharge_disposition_id</th>\n",
       "      <th>admission_source_id</th>\n",
       "      <th>...</th>\n",
       "      <th>citoglipton</th>\n",
       "      <th>insulin</th>\n",
       "      <th>glyburide-metformin</th>\n",
       "      <th>glipizide-metformin</th>\n",
       "      <th>glimepiride-pioglitazone</th>\n",
       "      <th>metformin-rosiglitazone</th>\n",
       "      <th>metformin-pioglitazone</th>\n",
       "      <th>change</th>\n",
       "      <th>diabetesMed</th>\n",
       "      <th>readmitted</th>\n",
       "    </tr>\n",
       "  </thead>\n",
       "  <tbody>\n",
       "    <tr>\n",
       "      <th>0</th>\n",
       "      <td>93634</td>\n",
       "      <td>338369606</td>\n",
       "      <td>159605546</td>\n",
       "      <td>AfricanAmerican</td>\n",
       "      <td>Male</td>\n",
       "      <td>[70-80)</td>\n",
       "      <td>?</td>\n",
       "      <td>1</td>\n",
       "      <td>23</td>\n",
       "      <td>7</td>\n",
       "      <td>...</td>\n",
       "      <td>No</td>\n",
       "      <td>No</td>\n",
       "      <td>No</td>\n",
       "      <td>No</td>\n",
       "      <td>No</td>\n",
       "      <td>No</td>\n",
       "      <td>No</td>\n",
       "      <td>No</td>\n",
       "      <td>No</td>\n",
       "      <td>NO</td>\n",
       "    </tr>\n",
       "    <tr>\n",
       "      <th>1</th>\n",
       "      <td>27698</td>\n",
       "      <td>90739116</td>\n",
       "      <td>83232054</td>\n",
       "      <td>Caucasian</td>\n",
       "      <td>Female</td>\n",
       "      <td>[70-80)</td>\n",
       "      <td>[75-100)</td>\n",
       "      <td>3</td>\n",
       "      <td>1</td>\n",
       "      <td>1</td>\n",
       "      <td>...</td>\n",
       "      <td>No</td>\n",
       "      <td>No</td>\n",
       "      <td>No</td>\n",
       "      <td>No</td>\n",
       "      <td>No</td>\n",
       "      <td>No</td>\n",
       "      <td>No</td>\n",
       "      <td>No</td>\n",
       "      <td>No</td>\n",
       "      <td>NO</td>\n",
       "    </tr>\n",
       "    <tr>\n",
       "      <th>2</th>\n",
       "      <td>17488</td>\n",
       "      <td>64286964</td>\n",
       "      <td>95117913</td>\n",
       "      <td>Caucasian</td>\n",
       "      <td>Male</td>\n",
       "      <td>[60-70)</td>\n",
       "      <td>?</td>\n",
       "      <td>3</td>\n",
       "      <td>1</td>\n",
       "      <td>1</td>\n",
       "      <td>...</td>\n",
       "      <td>No</td>\n",
       "      <td>No</td>\n",
       "      <td>No</td>\n",
       "      <td>No</td>\n",
       "      <td>No</td>\n",
       "      <td>No</td>\n",
       "      <td>No</td>\n",
       "      <td>Ch</td>\n",
       "      <td>Yes</td>\n",
       "      <td>&gt;30</td>\n",
       "    </tr>\n",
       "    <tr>\n",
       "      <th>3</th>\n",
       "      <td>96510</td>\n",
       "      <td>376610012</td>\n",
       "      <td>136697972</td>\n",
       "      <td>AfricanAmerican</td>\n",
       "      <td>Male</td>\n",
       "      <td>[40-50)</td>\n",
       "      <td>?</td>\n",
       "      <td>3</td>\n",
       "      <td>1</td>\n",
       "      <td>1</td>\n",
       "      <td>...</td>\n",
       "      <td>No</td>\n",
       "      <td>No</td>\n",
       "      <td>No</td>\n",
       "      <td>No</td>\n",
       "      <td>No</td>\n",
       "      <td>No</td>\n",
       "      <td>No</td>\n",
       "      <td>No</td>\n",
       "      <td>No</td>\n",
       "      <td>NO</td>\n",
       "    </tr>\n",
       "    <tr>\n",
       "      <th>4</th>\n",
       "      <td>35774</td>\n",
       "      <td>110557278</td>\n",
       "      <td>2851308</td>\n",
       "      <td>Caucasian</td>\n",
       "      <td>Male</td>\n",
       "      <td>[80-90)</td>\n",
       "      <td>?</td>\n",
       "      <td>1</td>\n",
       "      <td>1</td>\n",
       "      <td>6</td>\n",
       "      <td>...</td>\n",
       "      <td>No</td>\n",
       "      <td>No</td>\n",
       "      <td>No</td>\n",
       "      <td>No</td>\n",
       "      <td>No</td>\n",
       "      <td>No</td>\n",
       "      <td>No</td>\n",
       "      <td>No</td>\n",
       "      <td>No</td>\n",
       "      <td>NO</td>\n",
       "    </tr>\n",
       "  </tbody>\n",
       "</table>\n",
       "<p>5 rows × 51 columns</p>\n",
       "</div>"
      ],
      "text/plain": [
       "   Unnamed: 0  encounter_id  patient_nbr             race  gender      age  \\\n",
       "0       93634     338369606    159605546  AfricanAmerican    Male  [70-80)   \n",
       "1       27698      90739116     83232054        Caucasian  Female  [70-80)   \n",
       "2       17488      64286964     95117913        Caucasian    Male  [60-70)   \n",
       "3       96510     376610012    136697972  AfricanAmerican    Male  [40-50)   \n",
       "4       35774     110557278      2851308        Caucasian    Male  [80-90)   \n",
       "\n",
       "     weight  admission_type_id  discharge_disposition_id  admission_source_id  \\\n",
       "0         ?                  1                        23                    7   \n",
       "1  [75-100)                  3                         1                    1   \n",
       "2         ?                  3                         1                    1   \n",
       "3         ?                  3                         1                    1   \n",
       "4         ?                  1                         1                    6   \n",
       "\n",
       "   ...  citoglipton insulin glyburide-metformin  glipizide-metformin  \\\n",
       "0  ...           No      No                  No                   No   \n",
       "1  ...           No      No                  No                   No   \n",
       "2  ...           No      No                  No                   No   \n",
       "3  ...           No      No                  No                   No   \n",
       "4  ...           No      No                  No                   No   \n",
       "\n",
       "   glimepiride-pioglitazone  metformin-rosiglitazone  metformin-pioglitazone  \\\n",
       "0                        No                       No                      No   \n",
       "1                        No                       No                      No   \n",
       "2                        No                       No                      No   \n",
       "3                        No                       No                      No   \n",
       "4                        No                       No                      No   \n",
       "\n",
       "   change  diabetesMed readmitted  \n",
       "0      No           No         NO  \n",
       "1      No           No         NO  \n",
       "2      Ch          Yes        >30  \n",
       "3      No           No         NO  \n",
       "4      No           No         NO  \n",
       "\n",
       "[5 rows x 51 columns]"
      ]
     },
     "execution_count": 3,
     "metadata": {},
     "output_type": "execute_result"
    }
   ],
   "source": [
    "df.head()"
   ]
  },
  {
   "cell_type": "code",
   "execution_count": 4,
   "id": "99600f10",
   "metadata": {},
   "outputs": [
    {
     "name": "stdout",
     "output_type": "stream",
     "text": [
      "(76324, 51)\n",
      "<class 'pandas.core.frame.DataFrame'>\n",
      "RangeIndex: 76324 entries, 0 to 76323\n",
      "Data columns (total 51 columns):\n",
      " #   Column                    Non-Null Count  Dtype \n",
      "---  ------                    --------------  ----- \n",
      " 0   Unnamed: 0                76324 non-null  int64 \n",
      " 1   encounter_id              76324 non-null  int64 \n",
      " 2   patient_nbr               76324 non-null  int64 \n",
      " 3   race                      76324 non-null  object\n",
      " 4   gender                    76324 non-null  object\n",
      " 5   age                       76324 non-null  object\n",
      " 6   weight                    76324 non-null  object\n",
      " 7   admission_type_id         76324 non-null  int64 \n",
      " 8   discharge_disposition_id  76324 non-null  int64 \n",
      " 9   admission_source_id       76324 non-null  int64 \n",
      " 10  time_in_hospital          76324 non-null  int64 \n",
      " 11  payer_code                76324 non-null  object\n",
      " 12  medical_specialty         76324 non-null  object\n",
      " 13  num_lab_procedures        76324 non-null  int64 \n",
      " 14  num_procedures            76324 non-null  int64 \n",
      " 15  num_medications           76324 non-null  int64 \n",
      " 16  number_outpatient         76324 non-null  int64 \n",
      " 17  number_emergency          76324 non-null  int64 \n",
      " 18  number_inpatient          76324 non-null  int64 \n",
      " 19  diag_1                    76324 non-null  object\n",
      " 20  diag_2                    76324 non-null  object\n",
      " 21  diag_3                    76324 non-null  object\n",
      " 22  number_diagnoses          76324 non-null  int64 \n",
      " 23  max_glu_serum             76324 non-null  object\n",
      " 24  A1Cresult                 76324 non-null  object\n",
      " 25  metformin                 76324 non-null  object\n",
      " 26  repaglinide               76324 non-null  object\n",
      " 27  nateglinide               76324 non-null  object\n",
      " 28  chlorpropamide            76324 non-null  object\n",
      " 29  glimepiride               76324 non-null  object\n",
      " 30  acetohexamide             76324 non-null  object\n",
      " 31  glipizide                 76324 non-null  object\n",
      " 32  glyburide                 76324 non-null  object\n",
      " 33  tolbutamide               76324 non-null  object\n",
      " 34  pioglitazone              76324 non-null  object\n",
      " 35  rosiglitazone             76324 non-null  object\n",
      " 36  acarbose                  76324 non-null  object\n",
      " 37  miglitol                  76324 non-null  object\n",
      " 38  troglitazone              76324 non-null  object\n",
      " 39  tolazamide                76324 non-null  object\n",
      " 40  examide                   76324 non-null  object\n",
      " 41  citoglipton               76324 non-null  object\n",
      " 42  insulin                   76324 non-null  object\n",
      " 43  glyburide-metformin       76324 non-null  object\n",
      " 44  glipizide-metformin       76324 non-null  object\n",
      " 45  glimepiride-pioglitazone  76324 non-null  object\n",
      " 46  metformin-rosiglitazone   76324 non-null  object\n",
      " 47  metformin-pioglitazone    76324 non-null  object\n",
      " 48  change                    76324 non-null  object\n",
      " 49  diabetesMed               76324 non-null  object\n",
      " 50  readmitted                76324 non-null  object\n",
      "dtypes: int64(14), object(37)\n",
      "memory usage: 29.7+ MB\n",
      "None\n"
     ]
    }
   ],
   "source": [
    "'''All the initial checks of the data can be done by using the below methods from pandas'''\n",
    "print(df.shape)\n",
    "print(df.info())"
   ]
  },
  {
   "cell_type": "markdown",
   "id": "03076271",
   "metadata": {},
   "source": [
    "## Data Exploration"
   ]
  },
  {
   "cell_type": "code",
   "execution_count": 5,
   "id": "1b033ed4",
   "metadata": {},
   "outputs": [],
   "source": [
    "#A function to determine the percentage of the output class\n",
    "def calc_prevalence(output_value):\n",
    "    print(\"Prevalence for the given output class is\",sum(output_value)/len(output_value))"
   ]
  },
  {
   "cell_type": "code",
   "execution_count": 6,
   "id": "9e80f46c",
   "metadata": {},
   "outputs": [
    {
     "name": "stdout",
     "output_type": "stream",
     "text": [
      "Shape of the dataframe (74837, 51)\n",
      "Checking the count of 1's and 0's in the target column \n",
      " 0    66338\n",
      "1     8499\n",
      "Name: target, dtype: int64\n",
      "Prevalence for the given output class is 0.11356681855232037\n",
      "\n",
      "Unnamed: 0                      0\n",
      "encounter_id                    0\n",
      "patient_nbr                     0\n",
      "race                         1679\n",
      "gender                          0\n",
      "age                             0\n",
      "weight                      72478\n",
      "admission_type_id               0\n",
      "discharge_disposition_id        0\n",
      "admission_source_id             0\n",
      "time_in_hospital                0\n",
      "payer_code                  29497\n",
      "medical_specialty           36695\n",
      "num_lab_procedures              0\n",
      "num_procedures                  0\n",
      "num_medications                 0\n",
      "number_outpatient               0\n",
      "number_emergency                0\n",
      "number_inpatient                0\n",
      "diag_1                         20\n",
      "diag_2                        275\n",
      "diag_3                       1078\n",
      "number_diagnoses                0\n",
      "max_glu_serum                   0\n",
      "A1Cresult                       0\n",
      "metformin                       0\n",
      "repaglinide                     0\n",
      "nateglinide                     0\n",
      "chlorpropamide                  0\n",
      "glimepiride                     0\n",
      "acetohexamide                   0\n",
      "glipizide                       0\n",
      "glyburide                       0\n",
      "tolbutamide                     0\n",
      "pioglitazone                    0\n",
      "rosiglitazone                   0\n",
      "acarbose                        0\n",
      "miglitol                        0\n",
      "troglitazone                    0\n",
      "tolazamide                      0\n",
      "examide                         0\n",
      "citoglipton                     0\n",
      "insulin                         0\n",
      "glyburide-metformin             0\n",
      "glipizide-metformin             0\n",
      "glimepiride-pioglitazone        0\n",
      "metformin-rosiglitazone         0\n",
      "metformin-pioglitazone          0\n",
      "change                          0\n",
      "diabetesMed                     0\n",
      "target                          0\n",
      "dtype: int64\n",
      "<class 'pandas.core.frame.DataFrame'>\n",
      "Int64Index: 74837 entries, 0 to 76323\n",
      "Data columns (total 7 columns):\n",
      " #   Column             Non-Null Count  Dtype \n",
      "---  ------             --------------  ----- \n",
      " 0   race               73158 non-null  object\n",
      " 1   weight             2359 non-null   object\n",
      " 2   payer_code         45340 non-null  object\n",
      " 3   medical_specialty  38142 non-null  object\n",
      " 4   diag_1             74817 non-null  object\n",
      " 5   diag_2             74562 non-null  object\n",
      " 6   diag_3             73759 non-null  object\n",
      "dtypes: object(7)\n",
      "memory usage: 4.6+ MB\n",
      "None\n"
     ]
    },
    {
     "data": {
      "text/plain": [
       "\"All the numeric features in the dataframe doesn't have null values and we need to only work on categorical features \\nto replace the null values in the dataframe \""
      ]
     },
     "execution_count": 6,
     "metadata": {},
     "output_type": "execute_result"
    }
   ],
   "source": [
    "\"\"\"The below condition will locate all the numbers in the discharge_discahrge disposition id and filter those from \n",
    "the main dataframe becasue the numbers 11,12,14,19,20,21 are not met the readmitted criteria and hence we are removing\n",
    "the rows to avoid biasing\"\"\"\n",
    "df = df.loc[~df.discharge_disposition_id.isin([11,12,14,19,20,21])]\n",
    "\n",
    "#Converting the output column into binary calssification by making '<30' as '1' and other classes as '0'\n",
    "df['target'] = (df.readmitted == '<30').astype('int')\n",
    "\n",
    "#Dropping the readmitted column from the dataframe\n",
    "df = df.drop('readmitted', axis = 'columns')\n",
    "\n",
    "print(\"Shape of the dataframe\", df.shape)\n",
    "\n",
    "#From the output column, we can see that the classes are imbalanced\n",
    "print(\"Checking the count of 1's and 0's in the target column \\n\", df.target.value_counts())\n",
    "\n",
    "#Checking the percentage of the binary '1's present in the target column\n",
    "calc_prevalence(df['target'])\n",
    "\n",
    "'''Replacing all the question mark (missing values) with the NAN value in the data-frame'''\n",
    "df=df.replace('?',np.nan)\n",
    "print()\n",
    "print(df.isnull().sum())\n",
    "\n",
    "null_features = ['race', 'weight', 'payer_code', 'medical_specialty', 'diag_1', 'diag_2', 'diag_3']\n",
    "print(df[null_features].info())\n",
    "\n",
    "'''All the numeric features in the dataframe doesn't have null values and we need to only work on categorical features \n",
    "to replace the null values in the dataframe '''\n",
    "\n"
   ]
  },
  {
   "cell_type": "markdown",
   "id": "2f8fcbfa",
   "metadata": {},
   "source": [
    " ### Data Exploration Result:\n",
    " #### Around 11% of the output variable is only rehospitalized and all the remaining percentage of classes belongs to not re-hospitalized or admitted after more than 30 days\n",
    " ##### Issues found - Data Imbalance, Replace Null values, Some features needs to be dropped"
   ]
  },
  {
   "cell_type": "markdown",
   "id": "33ad768f",
   "metadata": {},
   "source": [
    "## Feature Engineering:"
   ]
  },
  {
   "cell_type": "code",
   "execution_count": 7,
   "id": "988e7b24",
   "metadata": {},
   "outputs": [
    {
     "data": {
      "text/plain": [
       "Index(['Unnamed: 0', 'encounter_id', 'patient_nbr', 'race', 'gender', 'age',\n",
       "       'weight', 'admission_type_id', 'discharge_disposition_id',\n",
       "       'admission_source_id', 'time_in_hospital', 'payer_code',\n",
       "       'medical_specialty', 'num_lab_procedures', 'num_procedures',\n",
       "       'num_medications', 'number_outpatient', 'number_emergency',\n",
       "       'number_inpatient', 'diag_1', 'diag_2', 'diag_3', 'number_diagnoses',\n",
       "       'max_glu_serum', 'A1Cresult', 'metformin', 'repaglinide', 'nateglinide',\n",
       "       'chlorpropamide', 'glimepiride', 'acetohexamide', 'glipizide',\n",
       "       'glyburide', 'tolbutamide', 'pioglitazone', 'rosiglitazone', 'acarbose',\n",
       "       'miglitol', 'troglitazone', 'tolazamide', 'examide', 'citoglipton',\n",
       "       'insulin', 'glyburide-metformin', 'glipizide-metformin',\n",
       "       'glimepiride-pioglitazone', 'metformin-rosiglitazone',\n",
       "       'metformin-pioglitazone', 'change', 'diabetesMed', 'target'],\n",
       "      dtype='object')"
      ]
     },
     "execution_count": 7,
     "metadata": {},
     "output_type": "execute_result"
    }
   ],
   "source": [
    "df.columns"
   ]
  },
  {
   "cell_type": "code",
   "execution_count": 8,
   "id": "56362cac",
   "metadata": {},
   "outputs": [
    {
     "data": {
      "text/plain": [
       "(74837, 51)"
      ]
     },
     "execution_count": 8,
     "metadata": {},
     "output_type": "execute_result"
    }
   ],
   "source": [
    "df.shape"
   ]
  },
  {
   "cell_type": "code",
   "execution_count": 9,
   "id": "8af3895c",
   "metadata": {},
   "outputs": [
    {
     "name": "stdout",
     "output_type": "stream",
     "text": [
      "race                          6\n",
      "gender                        3\n",
      "age                          10\n",
      "admission_type_id             8\n",
      "discharge_disposition_id     21\n",
      "admission_source_id          17\n",
      "time_in_hospital             14\n",
      "medical_specialty            70\n",
      "num_lab_procedures          114\n",
      "num_procedures                7\n",
      "num_medications              74\n",
      "number_outpatient            31\n",
      "number_emergency             20\n",
      "number_inpatient             18\n",
      "diag_1                      674\n",
      "diag_2                      694\n",
      "diag_3                      717\n",
      "number_diagnoses             16\n",
      "max_glu_serum                 4\n",
      "A1Cresult                     4\n",
      "metformin                     4\n",
      "repaglinide                   4\n",
      "nateglinide                   4\n",
      "chlorpropamide                4\n",
      "glimepiride                   4\n",
      "acetohexamide                 2\n",
      "glipizide                     4\n",
      "glyburide                     4\n",
      "tolbutamide                   2\n",
      "pioglitazone                  4\n",
      "rosiglitazone                 4\n",
      "acarbose                      3\n",
      "miglitol                      2\n",
      "troglitazone                  2\n",
      "tolazamide                    2\n",
      "examide                       1\n",
      "citoglipton                   1\n",
      "insulin                       4\n",
      "glyburide-metformin           4\n",
      "glipizide-metformin           2\n",
      "glimepiride-pioglitazone      1\n",
      "metformin-rosiglitazone       2\n",
      "metformin-pioglitazone        2\n",
      "change                        2\n",
      "diabetesMed                   2\n",
      "target                        2\n",
      "dtype: int64\n"
     ]
    }
   ],
   "source": [
    "#We are dropping the weights becasue it has 98% missing values and Unnamed: 0 has no relation to output Class\n",
    "df = df.drop(['Unnamed: 0','weight'], axis='columns')#dropped\n",
    "\n",
    "#Dropping all the duplicate rows of the patients who have encountered again after the first admission\n",
    "df.drop_duplicates(subset =\"patient_nbr\", keep = 'first', inplace = True)#dropped\n",
    "\n",
    "#We are dropping the encounter_id and patient_nbr which are of no use to the predictor variable (readmitted)\n",
    "df=df.drop(['encounter_id','patient_nbr'], axis='columns')#dropped\n",
    "\n",
    "#We are dropping the payer_code column as well, because it has no relation with the output column\n",
    "df=df.drop(['payer_code'],axis=1)#dropped\n",
    "\n",
    "'''The below print statement will give the unique value counts in each column of the dataframe'''\n",
    "print(df.nunique(axis=0,dropna=False))"
   ]
  },
  {
   "cell_type": "code",
   "execution_count": 10,
   "id": "d82dd6da",
   "metadata": {},
   "outputs": [
    {
     "data": {
      "image/png": "[encoded data removed]",
      "text/plain": [
       "<Figure size 432x288 with 2 Axes>"
      ]
     },
     "metadata": {
      "needs_background": "light"
     },
     "output_type": "display_data"
    }
   ],
   "source": [
    "#Examining the attributes which has only one class in their column\n",
    "single_count = ['examide','citoglipton','glimepiride-pioglitazone','target']\n",
    "df[single_count]\n",
    "sns.heatmap(df[single_count].corr(), annot=True)\n",
    "\n",
    "#We are dropping the above columns becasue it has no relation between them and the output class\n",
    "df=df.drop(['examide','citoglipton','glimepiride-pioglitazone'],axis='columns')#dropped"
   ]
  },
  {
   "cell_type": "code",
   "execution_count": 11,
   "id": "1781e3f9",
   "metadata": {},
   "outputs": [],
   "source": [
    "#Age is mapped to the lowest value for their respective range given in each rows\n",
    "age_id = {'[0-10)': 0,\n",
    "             '[10-20)': 10,\n",
    "             '[20-30)': 20,\n",
    "             '[30-40)': 30,\n",
    "             '[40-50)': 40,\n",
    "             '[50-60)': 50,\n",
    "             '[60-70)': 60,\n",
    "             '[70-80)': 70,\n",
    "             '[80-90)': 80,\n",
    "             '[90-100)': 90}\n",
    "\n",
    "#Creating a new column called age_group and replacing it with mapped age_id variable\n",
    "df['age_group'] = df.age.replace(age_id)\n",
    "\n",
    "df=df.drop(['age'],axis='columns')"
   ]
  },
  {
   "cell_type": "code",
   "execution_count": 12,
   "id": "caf065b6",
   "metadata": {},
   "outputs": [
    {
     "data": {
      "text/plain": [
       "Index(['race', 'medical_specialty', 'diag_1', 'diag_2', 'diag_3'], dtype='object')"
      ]
     },
     "execution_count": 12,
     "metadata": {},
     "output_type": "execute_result"
    }
   ],
   "source": [
    "#NAN columns in the dataframe\n",
    "df.columns[df.isnull().any()]"
   ]
  },
  {
   "cell_type": "code",
   "execution_count": 13,
   "id": "2825c746",
   "metadata": {},
   "outputs": [],
   "source": [
    "#Selecting all the columns which has NAN values\n",
    "Feature_selection = ['race', 'medical_specialty', 'diag_1', 'diag_2', 'diag_3']"
   ]
  },
  {
   "cell_type": "code",
   "execution_count": 14,
   "id": "4a9f3b53",
   "metadata": {},
   "outputs": [],
   "source": [
    "#Applying Label_encoder for all the NAN columns by keeping the NAN values\n",
    "df_NAN_Columns= df[Feature_selection].apply(lambda series: pd.Series(\n",
    "    LabelEncoder().fit_transform(series[series.notnull()]),\n",
    "    index=series[series.notnull()].index\n",
    "))"
   ]
  },
  {
   "cell_type": "code",
   "execution_count": 15,
   "id": "38619de4",
   "metadata": {},
   "outputs": [],
   "source": [
    "#Dropping all the columns from the original dataframe which was stored previosuly in another variable\n",
    "df = df.drop(['race', 'medical_specialty', 'diag_1', 'diag_2', 'diag_3'], axis =1)"
   ]
  },
  {
   "cell_type": "code",
   "execution_count": 16,
   "id": "a46ccaf8",
   "metadata": {},
   "outputs": [],
   "source": [
    "#Storing all the categorical columns in the dataframe in a variable called categorical_columns\n",
    "categorical_columns = ['gender','admission_type_id','discharge_disposition_id','admission_source_id'\n",
    "    ,'max_glu_serum','A1Cresult','metformin','repaglinide','nateglinide'\n",
    "   ,'chlorpropamide','glimepiride','acetohexamide','glipizide','glyburide','tolbutamide','pioglitazone'\n",
    "   ,'rosiglitazone','acarbose','miglitol','troglitazone','tolazamide','insulin'\n",
    "   ,'glyburide-metformin','glipizide-metformin','metformin-rosiglitazone'\n",
    "   ,'metformin-pioglitazone','change','diabetesMed']"
   ]
  },
  {
   "cell_type": "code",
   "execution_count": 17,
   "id": "a6c27aa5",
   "metadata": {},
   "outputs": [],
   "source": [
    "#Applying one_hot_encoding to all the categorical columns and making drop_first has true\n",
    "one_hot_encoding = pd.get_dummies(df[categorical_columns], drop_first = True)"
   ]
  },
  {
   "cell_type": "code",
   "execution_count": 18,
   "id": "de9494bf",
   "metadata": {},
   "outputs": [],
   "source": [
    "#Joining all the columns(one_hot_encoded datframe and NAN_column dataframe) back to the original dataframne.\n",
    "df=pd.concat([df ,one_hot_encoding, df_NAN_Columns], axis = 1)"
   ]
  },
  {
   "cell_type": "code",
   "execution_count": 19,
   "id": "59909f31",
   "metadata": {},
   "outputs": [],
   "source": [
    "#Dropping all the original columns from the dataframe which was one_hot_encoded\n",
    "df=df.drop(['gender','admission_type_id','discharge_disposition_id','admission_source_id','max_glu_serum','A1Cresult','metformin','repaglinide','nateglinide'\n",
    "   ,'chlorpropamide','glimepiride','acetohexamide','glipizide','glyburide','tolbutamide','pioglitazone'\n",
    "   ,'rosiglitazone','acarbose','miglitol','troglitazone','tolazamide','insulin'\n",
    "   ,'glyburide-metformin','glipizide-metformin','metformin-rosiglitazone'\n",
    "   ,'metformin-pioglitazone','change','diabetesMed'],axis = 1)"
   ]
  },
  {
   "cell_type": "code",
   "execution_count": 20,
   "id": "087ad09f",
   "metadata": {},
   "outputs": [
    {
     "data": {
      "text/plain": [
       "Index(['race', 'medical_specialty', 'diag_1', 'diag_2', 'diag_3'], dtype='object')"
      ]
     },
     "execution_count": 20,
     "metadata": {},
     "output_type": "execute_result"
    }
   ],
   "source": [
    "#Checking columns which has NAN values\n",
    "df.columns[df.isnull().any()]"
   ]
  },
  {
   "cell_type": "code",
   "execution_count": 21,
   "id": "4879b7d7",
   "metadata": {},
   "outputs": [],
   "source": [
    "#Applying MINMAX Scaler to the dataframe\n",
    "scaler = MinMaxScaler()\n",
    "df = pd.DataFrame(scaler.fit_transform(df), columns = df.columns)"
   ]
  },
  {
   "cell_type": "code",
   "execution_count": 22,
   "id": "5cf9081c",
   "metadata": {},
   "outputs": [],
   "source": [
    "#Using KNNImputer to replace all the NAN values present in the dataframe\n",
    "imputer = KNNImputer(n_neighbors=5)\n",
    "df = pd.DataFrame(imputer.fit_transform(df),columns = df.columns)"
   ]
  },
  {
   "cell_type": "code",
   "execution_count": 23,
   "id": "9e341d96",
   "metadata": {},
   "outputs": [
    {
     "data": {
      "text/plain": [
       "Index([], dtype='object')"
      ]
     },
     "execution_count": 23,
     "metadata": {},
     "output_type": "execute_result"
    }
   ],
   "source": [
    "df.columns[df.isnull().any()]"
   ]
  },
  {
   "cell_type": "code",
   "execution_count": 24,
   "id": "c95de32a",
   "metadata": {},
   "outputs": [
    {
     "data": {
      "text/html": [
       "<div>\n",
       "<style scoped>\n",
       "    .dataframe tbody tr th:only-of-type {\n",
       "        vertical-align: middle;\n",
       "    }\n",
       "\n",
       "    .dataframe tbody tr th {\n",
       "        vertical-align: top;\n",
       "    }\n",
       "\n",
       "    .dataframe thead th {\n",
       "        text-align: right;\n",
       "    }\n",
       "</style>\n",
       "<table border=\"1\" class=\"dataframe\">\n",
       "  <thead>\n",
       "    <tr style=\"text-align: right;\">\n",
       "      <th></th>\n",
       "      <th>time_in_hospital</th>\n",
       "      <th>num_lab_procedures</th>\n",
       "      <th>num_procedures</th>\n",
       "      <th>num_medications</th>\n",
       "      <th>number_outpatient</th>\n",
       "      <th>number_emergency</th>\n",
       "      <th>number_inpatient</th>\n",
       "      <th>number_diagnoses</th>\n",
       "      <th>target</th>\n",
       "      <th>age_group</th>\n",
       "      <th>...</th>\n",
       "      <th>glipizide-metformin_Steady</th>\n",
       "      <th>metformin-rosiglitazone_Steady</th>\n",
       "      <th>metformin-pioglitazone_Steady</th>\n",
       "      <th>change_No</th>\n",
       "      <th>diabetesMed_Yes</th>\n",
       "      <th>race</th>\n",
       "      <th>medical_specialty</th>\n",
       "      <th>diag_1</th>\n",
       "      <th>diag_2</th>\n",
       "      <th>diag_3</th>\n",
       "    </tr>\n",
       "  </thead>\n",
       "  <tbody>\n",
       "    <tr>\n",
       "      <th>0</th>\n",
       "      <td>0.153846</td>\n",
       "      <td>0.516667</td>\n",
       "      <td>0.000000</td>\n",
       "      <td>0.0750</td>\n",
       "      <td>0.0</td>\n",
       "      <td>0.0</td>\n",
       "      <td>0.0</td>\n",
       "      <td>0.466667</td>\n",
       "      <td>0.0</td>\n",
       "      <td>0.777778</td>\n",
       "      <td>...</td>\n",
       "      <td>0.0</td>\n",
       "      <td>0.0</td>\n",
       "      <td>0.0</td>\n",
       "      <td>1.0</td>\n",
       "      <td>0.0</td>\n",
       "      <td>0.0</td>\n",
       "      <td>0.223529</td>\n",
       "      <td>0.333333</td>\n",
       "      <td>0.200867</td>\n",
       "      <td>0.374825</td>\n",
       "    </tr>\n",
       "    <tr>\n",
       "      <th>1</th>\n",
       "      <td>0.000000</td>\n",
       "      <td>0.441667</td>\n",
       "      <td>1.000000</td>\n",
       "      <td>0.0875</td>\n",
       "      <td>0.0</td>\n",
       "      <td>0.0</td>\n",
       "      <td>0.0</td>\n",
       "      <td>0.333333</td>\n",
       "      <td>0.0</td>\n",
       "      <td>0.777778</td>\n",
       "      <td>...</td>\n",
       "      <td>0.0</td>\n",
       "      <td>0.0</td>\n",
       "      <td>0.0</td>\n",
       "      <td>1.0</td>\n",
       "      <td>0.0</td>\n",
       "      <td>0.5</td>\n",
       "      <td>0.044118</td>\n",
       "      <td>0.372024</td>\n",
       "      <td>0.332370</td>\n",
       "      <td>0.857343</td>\n",
       "    </tr>\n",
       "    <tr>\n",
       "      <th>2</th>\n",
       "      <td>0.230769</td>\n",
       "      <td>0.416667</td>\n",
       "      <td>0.166667</td>\n",
       "      <td>0.2250</td>\n",
       "      <td>0.0</td>\n",
       "      <td>0.0</td>\n",
       "      <td>0.0</td>\n",
       "      <td>0.200000</td>\n",
       "      <td>0.0</td>\n",
       "      <td>0.666667</td>\n",
       "      <td>...</td>\n",
       "      <td>0.0</td>\n",
       "      <td>0.0</td>\n",
       "      <td>0.0</td>\n",
       "      <td>0.0</td>\n",
       "      <td>1.0</td>\n",
       "      <td>0.5</td>\n",
       "      <td>0.535294</td>\n",
       "      <td>0.492560</td>\n",
       "      <td>0.101156</td>\n",
       "      <td>0.476923</td>\n",
       "    </tr>\n",
       "    <tr>\n",
       "      <th>3</th>\n",
       "      <td>0.076923</td>\n",
       "      <td>0.125000</td>\n",
       "      <td>0.000000</td>\n",
       "      <td>0.0750</td>\n",
       "      <td>0.0</td>\n",
       "      <td>0.0</td>\n",
       "      <td>0.0</td>\n",
       "      <td>0.266667</td>\n",
       "      <td>0.0</td>\n",
       "      <td>0.444444</td>\n",
       "      <td>...</td>\n",
       "      <td>0.0</td>\n",
       "      <td>0.0</td>\n",
       "      <td>0.0</td>\n",
       "      <td>1.0</td>\n",
       "      <td>0.0</td>\n",
       "      <td>0.0</td>\n",
       "      <td>0.252941</td>\n",
       "      <td>0.540179</td>\n",
       "      <td>0.654624</td>\n",
       "      <td>0.317483</td>\n",
       "    </tr>\n",
       "    <tr>\n",
       "      <th>4</th>\n",
       "      <td>0.000000</td>\n",
       "      <td>0.525000</td>\n",
       "      <td>0.000000</td>\n",
       "      <td>0.0250</td>\n",
       "      <td>0.0</td>\n",
       "      <td>0.0</td>\n",
       "      <td>0.0</td>\n",
       "      <td>0.266667</td>\n",
       "      <td>0.0</td>\n",
       "      <td>0.888889</td>\n",
       "      <td>...</td>\n",
       "      <td>0.0</td>\n",
       "      <td>0.0</td>\n",
       "      <td>0.0</td>\n",
       "      <td>1.0</td>\n",
       "      <td>0.0</td>\n",
       "      <td>0.5</td>\n",
       "      <td>0.161765</td>\n",
       "      <td>0.770833</td>\n",
       "      <td>0.101156</td>\n",
       "      <td>0.317483</td>\n",
       "    </tr>\n",
       "  </tbody>\n",
       "</table>\n",
       "<p>5 rows × 68 columns</p>\n",
       "</div>"
      ],
      "text/plain": [
       "   time_in_hospital  num_lab_procedures  num_procedures  num_medications  \\\n",
       "0          0.153846            0.516667        0.000000           0.0750   \n",
       "1          0.000000            0.441667        1.000000           0.0875   \n",
       "2          0.230769            0.416667        0.166667           0.2250   \n",
       "3          0.076923            0.125000        0.000000           0.0750   \n",
       "4          0.000000            0.525000        0.000000           0.0250   \n",
       "\n",
       "   number_outpatient  number_emergency  number_inpatient  number_diagnoses  \\\n",
       "0                0.0               0.0               0.0          0.466667   \n",
       "1                0.0               0.0               0.0          0.333333   \n",
       "2                0.0               0.0               0.0          0.200000   \n",
       "3                0.0               0.0               0.0          0.266667   \n",
       "4                0.0               0.0               0.0          0.266667   \n",
       "\n",
       "   target  age_group  ...  glipizide-metformin_Steady  \\\n",
       "0     0.0   0.777778  ...                         0.0   \n",
       "1     0.0   0.777778  ...                         0.0   \n",
       "2     0.0   0.666667  ...                         0.0   \n",
       "3     0.0   0.444444  ...                         0.0   \n",
       "4     0.0   0.888889  ...                         0.0   \n",
       "\n",
       "   metformin-rosiglitazone_Steady  metformin-pioglitazone_Steady  change_No  \\\n",
       "0                             0.0                            0.0        1.0   \n",
       "1                             0.0                            0.0        1.0   \n",
       "2                             0.0                            0.0        0.0   \n",
       "3                             0.0                            0.0        1.0   \n",
       "4                             0.0                            0.0        1.0   \n",
       "\n",
       "   diabetesMed_Yes  race  medical_specialty    diag_1    diag_2    diag_3  \n",
       "0              0.0   0.0           0.223529  0.333333  0.200867  0.374825  \n",
       "1              0.0   0.5           0.044118  0.372024  0.332370  0.857343  \n",
       "2              1.0   0.5           0.535294  0.492560  0.101156  0.476923  \n",
       "3              0.0   0.0           0.252941  0.540179  0.654624  0.317483  \n",
       "4              0.0   0.5           0.161765  0.770833  0.101156  0.317483  \n",
       "\n",
       "[5 rows x 68 columns]"
      ]
     },
     "execution_count": 24,
     "metadata": {},
     "output_type": "execute_result"
    }
   ],
   "source": [
    "df.head()"
   ]
  },
  {
   "cell_type": "markdown",
   "id": "39cd1884",
   "metadata": {},
   "source": [
    "## Feature Selection and Evaluation:"
   ]
  },
  {
   "cell_type": "code",
   "execution_count": 25,
   "id": "9b2ea589",
   "metadata": {},
   "outputs": [
    {
     "name": "stdout",
     "output_type": "stream",
     "text": [
      "Split size: 0.020\n"
     ]
    }
   ],
   "source": [
    "#Shuffling the data again by using .sample() method to split the data for training and validation\n",
    "df_data =df.sample(n=len(df),random_state=42)\n",
    "\n",
    "#Splitting \n",
    "df_valid_test = df_data.sample(frac = 0.02, random_state = 42)\n",
    "print(\"Split size: %.3f\"%((len(df_valid_test))/len(df_data)))"
   ]
  },
  {
   "cell_type": "code",
   "execution_count": 26,
   "id": "93009019",
   "metadata": {},
   "outputs": [],
   "source": [
    "df_train_all = df.drop(df_valid_test.index)"
   ]
  },
  {
   "cell_type": "code",
   "execution_count": 27,
   "id": "97e4de03",
   "metadata": {},
   "outputs": [
    {
     "name": "stdout",
     "output_type": "stream",
     "text": [
      "Prevalence for the given output class is 0.07999491057147012\n",
      "Prevalence for the given output class is 0.07836153161175423\n"
     ]
    }
   ],
   "source": [
    "calc_prevalence(df_train_all['target'])\n",
    "calc_prevalence(df_valid_test['target'])"
   ]
  },
  {
   "cell_type": "code",
   "execution_count": 28,
   "id": "7e3b8422",
   "metadata": {},
   "outputs": [
    {
     "data": {
      "text/plain": [
       "(8802, 68)"
      ]
     },
     "execution_count": 28,
     "metadata": {},
     "output_type": "execute_result"
    }
   ],
   "source": [
    "\n",
    "#print(df_shuffled.shape)\n",
    "positive_rows = df_train_all.target == 1\n",
    "\n",
    "'''Splitting the data into positive and negative'''\n",
    "train_pos_rows = df_train_all.loc[positive_rows]# binary value '1' are splitted and stored\n",
    "train_neg_rows = df_train_all.loc[~positive_rows]# binary value '0' are splitted and stored\n",
    "\n",
    "#Making it a balanced data by appling under sampling technique here\n",
    "data_merged = pd.concat([train_pos_rows,train_neg_rows.sample(n= len(train_pos_rows),random_state = 42)], axis =0)\n",
    "data_merged.shape"
   ]
  },
  {
   "cell_type": "code",
   "execution_count": 29,
   "id": "a9c20103",
   "metadata": {},
   "outputs": [],
   "source": [
    "#We are shuffling the data again after merging the data back together\n",
    "df_data = data_merged.sample(n=len(data_merged),random_state=42)\n",
    "#Converting the target column back to int type after minmax scaling\n",
    "df_data['target'] = df_data['target'].astype(\"int\")\n",
    "#df_data.head()"
   ]
  },
  {
   "cell_type": "code",
   "execution_count": 30,
   "id": "9120364d",
   "metadata": {},
   "outputs": [],
   "source": [
    "#Storing the input columns in the X variable\n",
    "X = df_data.drop('target', axis = 1)\n",
    "#Storing the output column in the y variable\n",
    "y = df_data['target']"
   ]
  },
  {
   "cell_type": "code",
   "execution_count": 31,
   "id": "571a0a3f",
   "metadata": {},
   "outputs": [
    {
     "name": "stdout",
     "output_type": "stream",
     "text": [
      "['feature_idx', 'cv_scores', 'avg_score', 'feature_names']\n"
     ]
    },
    {
     "data": {
      "image/png": "[encoded data removed]",
      "text/plain": [
       "<Figure size 432x288 with 1 Axes>"
      ]
     },
     "metadata": {
      "needs_background": "light"
     },
     "output_type": "display_data"
    }
   ],
   "source": [
    "#Sequential_Forward_selector is used for selcting the appropriate features\n",
    "sfs = SFS(DecisionTreeClassifier(), \n",
    "          k_features=13, \n",
    "          forward=True, \n",
    "          floating=False,\n",
    "          scoring='neg_mean_squared_error',\n",
    "          cv=5)\n",
    "\n",
    "sfs = sfs.fit(X, y)\n",
    "fig = plot_sfs(sfs.get_metric_dict(), kind='std_err')\n",
    "df_SFS_results = pd.DataFrame(sfs.subsets_).transpose()\n",
    "print(list(df_SFS_results))\n",
    "plt.title('Sequential Forward Selection (w. StdErr)')\n",
    "plt.grid()\n",
    "plt.show()"
   ]
  },
  {
   "cell_type": "code",
   "execution_count": 32,
   "id": "c6b7b1c4",
   "metadata": {},
   "outputs": [],
   "source": [
    "#print(list(df_SFS_results.iloc[:,-1]))"
   ]
  },
  {
   "cell_type": "code",
   "execution_count": 33,
   "id": "4fd723b3",
   "metadata": {},
   "outputs": [],
   "source": [
    "\"\"\"The below feature is selected after performing linear sequential_feature_selector for multiple times using \n",
    "different models and the below features are selected atlast after rigorous selection\"\"\"\n",
    "Selected_Feature = ['time_in_hospital', 'num_lab_procedures', 'num_procedures', 'number_outpatient', 'number_emergency', 'number_inpatient', 'number_diagnoses', 'age_group', 'diag_1', 'max_glu_serum_Norm', 'A1Cresult_None', 'metformin_Up', 'race', 'tolazamide_Steady', 'insulin_Steady', 'glipizide-metformin_Steady', 'diabetesMed_Yes']\n"
   ]
  },
  {
   "cell_type": "markdown",
   "id": "ab6b8105",
   "metadata": {},
   "source": [
    "## Modeling:"
   ]
  },
  {
   "cell_type": "code",
   "execution_count": 34,
   "id": "825e358b",
   "metadata": {},
   "outputs": [
    {
     "name": "stdout",
     "output_type": "stream",
     "text": [
      "Training all shapes: (55016, 17)\n",
      "Training shapes: (8802, 17) (8802,)\n",
      "Validation shapes: (1123, 17) (1123,)\n"
     ]
    }
   ],
   "source": [
    "#Storing the under_sampled data in the X_train variable\n",
    "X_train = df_data[Selected_Feature].values\n",
    "#Storing the complete data in X_train_all\n",
    "X_train_all = df_train_all[Selected_Feature].values\n",
    "#Storing the validation data in X_valid\n",
    "X_valid = df_valid_test[Selected_Feature].values\n",
    "\n",
    "#y_train as the target column of under sampled data\n",
    "y_train = df_data['target'].values\n",
    "#y_valid as the target column of splitted data\n",
    "y_valid = df_valid_test['target'].values\n",
    "\n",
    "print(\"Training all shapes:\",X_train_all.shape)\n",
    "print(\"Training shapes:\",X_train.shape, y_train.shape)\n",
    "print(\"Validation shapes:\",X_valid.shape, y_valid.shape)"
   ]
  },
  {
   "cell_type": "code",
   "execution_count": 35,
   "id": "4111d095",
   "metadata": {},
   "outputs": [],
   "source": [
    "def calc_specificity(y_actual, y_pred, thresh):\n",
    "    #calculates specificity\n",
    "    return sum((y_pred<thresh) & (y_actual == 0)) / sum(y_actual == 0)"
   ]
  },
  {
   "cell_type": "code",
   "execution_count": 36,
   "id": "20007140",
   "metadata": {},
   "outputs": [],
   "source": [
    "#Calculating the remaining AUC_Score, Accuracy, Recall_score(Sensitivity), Precision and specificity\n",
    "def print_report(y_actual, y_pred, thresh):\n",
    "    \n",
    "    auc = roc_auc_score(y_actual, y_pred)\n",
    "    accuracy = accuracy_score(y_actual,(y_pred > thresh))\n",
    "    Recall_score = recall_score(y_actual,(y_pred > thresh))\n",
    "    Precision = precision_score(y_actual,(y_pred > thresh))\n",
    "    specificity = calc_specificity(y_actual, y_pred, thresh)\n",
    "    print(\"AUC SCORE:%.3f\"%auc)\n",
    "    print(\"accuracy:%.3f \"%accuracy)\n",
    "    print(\"Recall_score:%.3f \"%Recall_score)\n",
    "    print(\"precision:%.3f \"%Precision)\n",
    "    print(\"specificity:%.3f \"%specificity)\n",
    "    print(' ')\n",
    "    \n",
    "    return auc, accuracy, Recall_score, Precision, specificity"
   ]
  },
  {
   "cell_type": "code",
   "execution_count": 37,
   "id": "ed2d40fc",
   "metadata": {},
   "outputs": [],
   "source": [
    "#Initializing a thresh value of 0.5\n",
    "thresh = 0.5"
   ]
  },
  {
   "cell_type": "code",
   "execution_count": 38,
   "id": "6af03f20",
   "metadata": {},
   "outputs": [
    {
     "name": "stdout",
     "output_type": "stream",
     "text": [
      "KNN\n",
      "Training: \n",
      "AUC SCORE:0.644\n",
      "accuracy:0.605 \n",
      "Recall_score:0.563 \n",
      "precision:0.615 \n",
      "specificity:0.578 \n",
      " \n",
      "Validation: \n",
      "AUC SCORE:0.566\n",
      "accuracy:0.587 \n",
      "Recall_score:0.477 \n",
      "precision:0.091 \n",
      "specificity:0.525 \n",
      " \n"
     ]
    }
   ],
   "source": [
    "#PERFORMING KNN MODEL\n",
    "knn = KNeighborsClassifier(n_neighbors=50)\n",
    "knn.fit(X_train, y_train)\n",
    "\n",
    "y_train_preds1 = knn.predict_proba(X_train)[:,-1]\n",
    "y_valid_preds1 = knn.predict_proba(X_valid)[:,-1]\n",
    "\n",
    "print('KNN')\n",
    "\n",
    "print(\"Training: \")\n",
    "knn_train_auc, knn_train_accuracy, knn_train_recall, \\\n",
    "    knn_train_precision, knn_train_specificity = print_report(y_train, y_train_preds1, thresh)\n",
    "\n",
    "print(\"Validation: \")\n",
    "knn_valid_auc, knn_valid_accuracy, knn_valid_recall, \\\n",
    "    knn_valid_precision, knn_valid_specificity = print_report(y_valid, y_valid_preds1, thresh)"
   ]
  },
  {
   "cell_type": "code",
   "execution_count": 39,
   "id": "dd36ca4d",
   "metadata": {},
   "outputs": [
    {
     "name": "stdout",
     "output_type": "stream",
     "text": [
      "Logistic Regression\n",
      "Training: \n",
      "AUC SCORE:0.642\n",
      "accuracy:0.603 \n",
      "Recall_score:0.566 \n",
      "precision:0.611 \n",
      "specificity:0.640 \n",
      " \n",
      "Validation: \n",
      "AUC SCORE:0.634\n",
      "accuracy:0.631 \n",
      "Recall_score:0.534 \n",
      "precision:0.112 \n",
      "specificity:0.640 \n",
      " \n"
     ]
    }
   ],
   "source": [
    "#PERFORMING LOGISTIC REGRESSION MODEL\n",
    "lr = LogisticRegression()\n",
    "lr.fit(X_train,y_train)\n",
    "\n",
    "y_train_preds2 = lr.predict_proba(X_train)[:,-1]\n",
    "y_valid_preds2 = lr.predict_proba(X_valid)[:,-1]\n",
    "\n",
    "print('Logistic Regression')\n",
    "\n",
    "print(\"Training: \")\n",
    "lr_train_auc, lr_train_accuracy, lr_train_recall, \\\n",
    "    lr_train_precision, lr_train_specificity = print_report(y_train, y_train_preds2, thresh)\n",
    "\n",
    "print(\"Validation: \")\n",
    "lr_valid_auc, lr_valid_accuracy, lr_valid_recall, \\\n",
    "    lr_valid_precision, lr_valid_specificity = print_report(y_valid, y_valid_preds2, thresh)"
   ]
  },
  {
   "cell_type": "code",
   "execution_count": 40,
   "id": "bc29bd0a",
   "metadata": {},
   "outputs": [
    {
     "name": "stdout",
     "output_type": "stream",
     "text": [
      "Decision Tree\n",
      "Training: \n",
      "AUC SCORE:0.768\n",
      "accuracy:0.687 \n",
      "Recall_score:0.694 \n",
      "precision:0.684 \n",
      "specificity:0.661 \n",
      " \n",
      "Validation: \n",
      "AUC SCORE:0.613\n",
      "accuracy:0.581 \n",
      "Recall_score:0.625 \n",
      "precision:0.112 \n",
      "specificity:0.562 \n",
      " \n"
     ]
    }
   ],
   "source": [
    "#PERFORMING DECISION TREE MODEL\n",
    "tree = DecisionTreeClassifier(max_depth = 10, random_state = 42)\n",
    "tree.fit(X_train,y_train)\n",
    "\n",
    "y_train_preds3 = tree.predict_proba(X_train)[:,-1]\n",
    "y_valid_preds3 = tree.predict_proba(X_valid)[:,-1]\n",
    "\n",
    "print('Decision Tree')\n",
    "\n",
    "print(\"Training: \")\n",
    "dt_train_auc, dt_train_accuracy, dt_train_recall, \\\n",
    "    dt_train_precision, dt_train_specificity = print_report(y_train, y_train_preds3, thresh)\n",
    "\n",
    "print(\"Validation: \")\n",
    "dt_valid_auc, dt_valid_accuracy, dt_valid_recall, \\\n",
    "    dt_valid_precision, dt_valid_specificity = print_report(y_valid, y_valid_preds3, thresh)"
   ]
  },
  {
   "cell_type": "code",
   "execution_count": 41,
   "id": "d09ff1d7",
   "metadata": {},
   "outputs": [
    {
     "name": "stdout",
     "output_type": "stream",
     "text": [
      "Random FOrest\n",
      "Training: \n",
      "AUC SCORE:0.692\n",
      "accuracy:0.636 \n",
      "Recall_score:0.616 \n",
      "precision:0.641 \n",
      "specificity:0.656 \n",
      " \n",
      "Validation: \n",
      "AUC SCORE:0.648\n",
      "accuracy:0.622 \n",
      "Recall_score:0.591 \n",
      "precision:0.118 \n",
      "specificity:0.625 \n",
      " \n"
     ]
    }
   ],
   "source": [
    "#PERFORMING RANDOM FOREST MODEL\n",
    "rf = RandomForestClassifier(max_depth=6,random_state=42)\n",
    "rf.fit(X_train,y_train)\n",
    "\n",
    "y_train_preds4 = rf.predict_proba(X_train)[:,-1]\n",
    "y_valid_preds4 = rf.predict_proba(X_valid)[:,-1]\n",
    "\n",
    "print('Random FOrest')\n",
    "\n",
    "print(\"Training: \")\n",
    "rf_train_auc, rf_train_accuracy, rf_train_recall, \\\n",
    "    rf_train_precision, rf_train_specificity = print_report(y_train, y_train_preds4, thresh)\n",
    "\n",
    "print(\"Validation: \")\n",
    "rf_valid_auc, rf_valid_accuracy, rf_valid_recall, \\\n",
    "    rf_valid_precision, rf_valid_specificity = print_report(y_valid, y_valid_preds4, thresh)"
   ]
  },
  {
   "cell_type": "markdown",
   "id": "512ce01d",
   "metadata": {},
   "source": [
    "## Test-Dataset:"
   ]
  },
  {
   "cell_type": "markdown",
   "id": "57cb770a",
   "metadata": {},
   "source": [
    "#### The steps below implemented are Preprocessing, Feature_selection, Feature_evaluation and Modeling, which are copied and pasted from training dataset after testing the preprocessing steps completely on training dataset.\n",
    "\n",
    "__Note:__\n",
    "    **Run the model from start(Training Dataset) to test the visualization of the model implemented below for Training, Validation and Testing**"
   ]
  },
  {
   "cell_type": "code",
   "execution_count": 42,
   "id": "eb09b99d",
   "metadata": {},
   "outputs": [],
   "source": [
    "df = pd.read_csv(\"diabetic_data_test.csv\")"
   ]
  },
  {
   "cell_type": "code",
   "execution_count": 43,
   "id": "1fbd9658",
   "metadata": {},
   "outputs": [],
   "source": [
    "'''Performing all the necessary preprocessing and feature selection techniques performed under training'''\n",
    "\"\"\"SAMPLING IS NOT PERFORMED FOR THE TESTING DATASET\"\"\"\n",
    "\n",
    "df = df.loc[~df.discharge_disposition_id.isin([11,12,14,19,20,21])]\n",
    "\n",
    "df['target'] = (df.readmitted == '<30').astype('int')\n",
    "\n",
    "df = df.drop('readmitted', axis = 'columns')\n",
    "\n",
    "df.drop_duplicates(subset =\"patient_nbr\", keep = 'first', inplace = True)\n",
    "\n",
    "df=df.replace('?',np.nan)\n",
    "\n",
    "df = df.drop(['Unnamed: 0','weight'], axis='columns')\n",
    "\n",
    "df=df.drop(['encounter_id','patient_nbr'], axis='columns')\n",
    "\n",
    "df=df.drop(['examide','citoglipton','glimepiride-pioglitazone'],axis='columns')\n",
    "\n",
    "df=df.drop(['payer_code'],axis=1)\n",
    "\n",
    "age_id ={'[0-10)': 0,\n",
    "             '[10-20)': 10,\n",
    "             '[20-30)': 20,\n",
    "             '[30-40)': 30,\n",
    "             '[40-50)': 40,\n",
    "             '[50-60)': 50,\n",
    "             '[60-70)': 60,\n",
    "             '[70-80)': 70,\n",
    "             '[80-90)': 80,\n",
    "             '[90-100)': 90}\n",
    "df['age_group'] = df.age.replace(age_id)\n",
    "\n",
    "df=df.drop(['age'],axis='columns')\n",
    "\n",
    "Feature_selection = ['race', 'medical_specialty', 'diag_1', 'diag_2', 'diag_3']\n",
    "\n",
    "df_NAN_Columns= df[Feature_selection].apply(lambda series: pd.Series(\n",
    "    LabelEncoder().fit_transform(series[series.notnull()]),\n",
    "    index=series[series.notnull()].index))\n",
    "\n",
    "df=df.drop(['race', 'medical_specialty', 'diag_1', 'diag_2', 'diag_3'], axis = 'columns')\n",
    "\n",
    "df = pd.concat([df,df_NAN_Columns], axis = 1)\n",
    "\n",
    "categorical_columns = ['gender','admission_type_id','discharge_disposition_id','admission_source_id','max_glu_serum','A1Cresult','metformin','repaglinide','nateglinide'\n",
    "   ,'chlorpropamide','glimepiride','acetohexamide','glipizide','glyburide','tolbutamide','pioglitazone'\n",
    "   ,'rosiglitazone','acarbose','miglitol','troglitazone','tolazamide','insulin'\n",
    "   ,'glyburide-metformin','glipizide-metformin','metformin-rosiglitazone'\n",
    "   ,'metformin-pioglitazone','change','diabetesMed']\n",
    "\n",
    "one_hot_encoding = pd.get_dummies(df[categorical_columns], drop_first = True)\n",
    "\n",
    "df=pd.concat([df,one_hot_encoding], axis = 1)\n",
    "\n",
    "df=df.drop(['gender','admission_type_id','discharge_disposition_id','admission_source_id','max_glu_serum','A1Cresult','metformin','repaglinide','nateglinide'\n",
    "   ,'chlorpropamide','glimepiride','acetohexamide','glipizide','glyburide','tolbutamide','pioglitazone'\n",
    "   ,'rosiglitazone','acarbose','miglitol','troglitazone','tolazamide','insulin'\n",
    "   ,'glyburide-metformin','glipizide-metformin','metformin-rosiglitazone'\n",
    "   ,'metformin-pioglitazone','change','diabetesMed'],axis = 1)\n",
    "\n",
    "scaler = MinMaxScaler()\n",
    "df = pd.DataFrame(scaler.fit_transform(df), columns = df.columns)\n",
    "imputer = KNNImputer(n_neighbors=10)\n",
    "\n",
    "df_data = pd.DataFrame(imputer.fit_transform(df),columns = df.columns)\n",
    "\n",
    "df_data = df_data.sample(n=len(data_merged),random_state=42)\n",
    "\n",
    "df_data['target'] = df_data['target'].astype(\"int\")\n",
    "\n",
    "X_test = df_data[Selected_Feature].values\n",
    "y_test = df_data['target'].values\n"
   ]
  },
  {
   "cell_type": "code",
   "execution_count": 44,
   "id": "fbbe35cc",
   "metadata": {},
   "outputs": [
    {
     "name": "stdout",
     "output_type": "stream",
     "text": [
      "KNN\n",
      "\n",
      "Testing: \n",
      "AUC SCORE:0.677\n",
      "accuracy:0.902 \n",
      "Recall_score:0.000 \n",
      "precision:0.000 \n",
      "specificity:1.000 \n",
      " \n"
     ]
    },
    {
     "name": "stderr",
     "output_type": "stream",
     "text": [
      "/Users/sam/opt/anaconda3/lib/python3.8/site-packages/sklearn/metrics/_classification.py:1245: UndefinedMetricWarning: Precision is ill-defined and being set to 0.0 due to no predicted samples. Use `zero_division` parameter to control this behavior.\n",
      "  _warn_prf(average, modifier, msg_start, len(result))\n"
     ]
    }
   ],
   "source": [
    "#KNearestNeighbour Model\n",
    "knn = KNeighborsClassifier(n_neighbors=50)\n",
    "knn.fit(X_test, y_test)\n",
    "\n",
    "y_test_pred1 = knn.predict_proba(X_test)[:,-1]\n",
    "knn_probs = knn.predict_proba(X_test)\n",
    "print('KNN\\n')\n",
    "\n",
    "print(\"Testing: \")\n",
    "knn_test_auc, knn_test_accuracy, knn_test_recall, \\\n",
    "    knn_test_precision, knn_test_specificity = print_report(y_test, y_test_pred1, thresh)"
   ]
  },
  {
   "cell_type": "code",
   "execution_count": 45,
   "id": "96ceaeb9",
   "metadata": {},
   "outputs": [
    {
     "name": "stdout",
     "output_type": "stream",
     "text": [
      "Logistic Regression\n",
      "\n",
      "Testing: \n",
      "AUC SCORE:0.637\n",
      "accuracy:0.902 \n",
      "Recall_score:0.008 \n",
      "precision:0.636 \n",
      "specificity:0.999 \n",
      " \n"
     ]
    }
   ],
   "source": [
    "#Logistic_Regression\n",
    "lr = LogisticRegression()\n",
    "lr.fit(X_test,y_test)\n",
    "\n",
    "y_test_pred2 = lr.predict_proba(X_test)[:,-1]\n",
    "\n",
    "print('Logistic Regression\\n')\n",
    "\n",
    "print(\"Testing: \")\n",
    "lr_test_auc, lr_test_accuracy, lr_test_recall, \\\n",
    "    lr_test_precision, lr_test_specificity = print_report(y_test, y_test_pred2, thresh)"
   ]
  },
  {
   "cell_type": "code",
   "execution_count": 46,
   "id": "f24d9696",
   "metadata": {},
   "outputs": [
    {
     "name": "stdout",
     "output_type": "stream",
     "text": [
      "Decision Tree\n",
      "\n",
      "Testing: \n",
      "AUC SCORE:0.768\n",
      "accuracy:0.915 \n",
      "Recall_score:0.148 \n",
      "precision:0.908 \n",
      "specificity:0.998 \n",
      " \n"
     ]
    }
   ],
   "source": [
    "#DecisionTreeClassifier Model\n",
    "tree = DecisionTreeClassifier(max_depth = 10, random_state = 42)\n",
    "tree.fit(X_test,y_test)\n",
    "\n",
    "y_test_pred3 = tree.predict_proba(X_test)[:,-1]\n",
    "\n",
    "print('Decision Tree\\n')\n",
    "\n",
    "print(\"Testing: \")\n",
    "dt_test_auc, dt_test_accuracy, dt_test_recall, \\\n",
    "    dt_test_precision, dt_test_specificity = print_report(y_test, y_test_pred3, thresh)\n"
   ]
  },
  {
   "cell_type": "code",
   "execution_count": 47,
   "id": "b13f4dcf",
   "metadata": {},
   "outputs": [
    {
     "name": "stdout",
     "output_type": "stream",
     "text": [
      "Random Forest\n",
      "\n",
      "Training: \n",
      "AUC SCORE:0.727\n",
      "accuracy:0.903 \n",
      "Recall_score:0.012 \n",
      "precision:1.000 \n",
      "specificity:1.000 \n",
      " \n"
     ]
    }
   ],
   "source": [
    "#Random_Forest_Model\n",
    "rf.fit(X_test,y_test)\n",
    "\n",
    "y_test_pred4 = rf.predict_proba(X_test)[:,-1]\n",
    "rf_probs = rf.predict_proba(X_test)\n",
    "print('Random Forest\\n')\n",
    "\n",
    "print(\"Training: \")\n",
    "rf_test_auc, rf_test_accuracy, rf_test_recall, \\\n",
    "    rf_test_precision, rf_test_specificity = print_report(y_test, y_test_pred4, thresh)"
   ]
  },
  {
   "cell_type": "code",
   "execution_count": 48,
   "id": "5ad8d672",
   "metadata": {},
   "outputs": [
    {
     "data": {
      "image/png": "[encoded data removed]",
      "text/plain": [
       "<Figure size 936x720 with 1 Axes>"
      ]
     },
     "metadata": {
      "needs_background": "light"
     },
     "output_type": "display_data"
    }
   ],
   "source": [
    "# BAR CHART FOR THE TRAIN, VALIDATION AND TEST MODELS for AUC SCORE\n",
    "#Set the barwidth and the size of the whole plot\n",
    "barWidth = 0.20\n",
    "fig = plt.subplots(figsize =(13, 10))\n",
    "\n",
    "Train = [knn_train_auc, lr_train_auc, dt_train_auc, rf_train_auc]\n",
    "Valid = [knn_valid_auc, lr_valid_auc, dt_valid_auc, rf_valid_auc]\n",
    "Test =  [knn_test_auc, lr_test_auc, dt_test_auc, rf_test_auc]\n",
    " \n",
    "# Set position of bar on X axis\n",
    "br1 = np.arange(len(Train))\n",
    "br2 = [x + barWidth for x in br1]\n",
    "br3 = [x + barWidth for x in br2]\n",
    " \n",
    "# Make the plot\n",
    "plt.bar(br1, Train, color ='r', width = barWidth,\n",
    "        edgecolor ='grey', label ='Train')\n",
    "plt.bar(br2, Valid, color ='g', width = barWidth,\n",
    "        edgecolor ='grey', label ='Valid')\n",
    "plt.bar(br3, Test, color ='b', width = barWidth,\n",
    "        edgecolor ='grey', label ='Test')\n",
    " \n",
    "# Adding Xticks\n",
    "plt.xlabel('Model', fontweight ='bold', fontsize = 15)\n",
    "plt.ylabel('AUC', fontweight ='bold', fontsize = 15)\n",
    "plt.xticks([r + barWidth for r in range(len(Train))],\n",
    "        ['KNN', 'LG', 'DT', 'RF'])\n",
    " \n",
    "plt.legend()\n",
    "plt.show()"
   ]
  },
  {
   "cell_type": "code",
   "execution_count": 49,
   "id": "86414116",
   "metadata": {},
   "outputs": [
    {
     "name": "stdout",
     "output_type": "stream",
     "text": [
      "No Skill: ROC AUC=0.500\n",
      "KNN: ROC AUC=0.677\n",
      "Logistic: ROC AUC=0.637\n",
      "Decision_Tree: ROC AUC=0.768\n",
      "Random_Forest: ROC AUC=0.727\n"
     ]
    },
    {
     "data": {
      "image/png": "[encoded data removed]",
      "text/plain": [
       "<Figure size 432x288 with 1 Axes>"
      ]
     },
     "metadata": {
      "needs_background": "light"
     },
     "output_type": "display_data"
    }
   ],
   "source": [
    "# ROC CURVES FOR THE TEST MODELS\n",
    "ns_probs = [0 for _ in range(len(y_test))]\n",
    "\n",
    "ns_auc = roc_auc_score(y_test, ns_probs)\n",
    "knn_auc = roc_auc_score(y_test, y_test_pred1)\n",
    "lr_auc = roc_auc_score(y_test, y_test_pred2)\n",
    "tree_auc = roc_auc_score(y_test, y_test_pred3)\n",
    "rf_auc = roc_auc_score(y_test, y_test_pred4)\n",
    "\n",
    "# summarize scores\n",
    "print('No Skill: ROC AUC=%.3f' % (ns_auc))\n",
    "print('KNN: ROC AUC=%.3f' % (knn_auc))\n",
    "print('Logistic: ROC AUC=%.3f' % (lr_auc))\n",
    "print('Decision_Tree: ROC AUC=%.3f' % (tree_auc))\n",
    "print('Random_Forest: ROC AUC=%.3f' % (rf_auc))\n",
    "\n",
    "# calculate roc curves\n",
    "ns_fpr, ns_tpr, _ = roc_curve(y_test, ns_probs)\n",
    "knn_fpr, knn_tpr, _ = roc_curve(y_test, y_test_pred1)\n",
    "lr_fpr, lr_tpr, _ = roc_curve(y_test, y_test_pred2)\n",
    "dt_fpr, dt_tpr, _ = roc_curve(y_test, y_test_pred3)\n",
    "rf_fpr, rf_tpr, _ = roc_curve(y_test, y_test_pred4)\n",
    "\n",
    "# plot the roc curve for the model\n",
    "plt.plot(ns_fpr, ns_tpr, linestyle='--', label='Baseline')\n",
    "plt.plot(knn_fpr, knn_tpr, marker='.', label='KNN')\n",
    "plt.plot(lr_fpr, lr_tpr, marker='.', label='Logistic_Regression')\n",
    "plt.plot(dt_fpr, dt_tpr, marker='.', label='Decision_Tree')\n",
    "plt.plot(rf_fpr, rf_tpr, marker='.', label='Random_Forest')\n",
    "\n",
    "# axis labels\n",
    "plt.xlabel('False Positive Rate')\n",
    "plt.ylabel('True Positive Rate')\n",
    "\n",
    "# show the legend\n",
    "plt.legend()\n",
    "\n",
    "# show the plot\n",
    "plt.show()"
   ]
  },
  {
   "cell_type": "code",
   "execution_count": 50,
   "id": "e45f2dee",
   "metadata": {},
   "outputs": [
    {
     "name": "stdout",
     "output_type": "stream",
     "text": [
      "KNN: f1=0.000 Precision_Recall_auc=0.193\n",
      "Logistic_Regression: f1=0.016 Precision_Recall_auc=0.171\n",
      "Decision_Tree: f1=0.254 Precision_Recall_auc=0.389\n",
      "Random_forest: f1=0.023 Precision_Recall_auc=0.310\n"
     ]
    },
    {
     "data": {
      "image/png": "[encoded data removed]",
      "text/plain": [
       "<Figure size 432x288 with 1 Axes>"
      ]
     },
     "metadata": {
      "needs_background": "light"
     },
     "output_type": "display_data"
    }
   ],
   "source": [
    "knn_probs = knn.predict_proba(X_test)\n",
    "knn_probs = knn_probs[:, 1]\n",
    "yhat = knn.predict(X_test)\n",
    "knn_precision, knn_recall, _ = precision_recall_curve(y_test, knn_probs)\n",
    "knn_f1, knn_auc = f1_score(y_test, yhat), auc(knn_recall, knn_precision)\n",
    "\n",
    "lr_probs = lr.predict_proba(X_test)\n",
    "lr_probs = lr_probs[:, 1]\n",
    "yhat = lr.predict(X_test)\n",
    "lr_precision, lr_recall, _ = precision_recall_curve(y_test, lr_probs)\n",
    "lr_f1, lr_auc = f1_score(y_test, yhat), auc(lr_recall, lr_precision)\n",
    "\n",
    "dt_probs = tree.predict_proba(X_test)\n",
    "dt_probs = dt_probs[:, 1]\n",
    "yhat = tree.predict(X_test)\n",
    "dt_precision, dt_recall, _ = precision_recall_curve(y_test, dt_probs)\n",
    "dt_f1, dt_auc = f1_score(y_test, yhat), auc(dt_recall, dt_precision)\n",
    "\n",
    "rf_probs = rf.predict_proba(X_test)\n",
    "rf_probs = rf_probs[:, 1]\n",
    "yhat = rf.predict(X_test)\n",
    "rf_precision, rf_recall, _ = precision_recall_curve(y_test, rf_probs)\n",
    "rf_f1, rf_auc = f1_score(y_test, yhat), auc(rf_recall, rf_precision)\n",
    "\n",
    "print('KNN: f1=%.3f Precision_Recall_auc=%.3f' % (knn_f1, knn_auc))\n",
    "print('Logistic_Regression: f1=%.3f Precision_Recall_auc=%.3f' % (lr_f1, lr_auc))\n",
    "print('Decision_Tree: f1=%.3f Precision_Recall_auc=%.3f' % (dt_f1, dt_auc))\n",
    "print('Random_forest: f1=%.3f Precision_Recall_auc=%.3f' % (rf_f1, rf_auc))\n",
    "\n",
    "no_skill = len(y_test[y_test==1]) / len(y_test)\n",
    "\n",
    "plt.plot([0, 1], [no_skill, no_skill], linestyle='--', label='No Skill')\n",
    "plt.plot(knn_recall, knn_precision, marker='.', label='KNN')\n",
    "plt.plot(lr_recall, lr_precision, marker='.', label='Logistic_Regression')\n",
    "plt.plot(dt_recall, dt_precision, marker='.', label='Decision_Tree')\n",
    "plt.plot(rf_recall, rf_precision, marker='.', label='Random_forest')\n",
    "\n",
    "# axis labels\n",
    "plt.xlabel('Recall')\n",
    "plt.ylabel('Precision')\n",
    "# show the legend\n",
    "plt.legend()\n",
    "# show the plot\n",
    "plt.show()"
   ]
  },
  {
   "cell_type": "markdown",
   "id": "42b1f043",
   "metadata": {},
   "source": [
    "## Results and Improvements:"
   ]
  },
  {
   "cell_type": "markdown",
   "id": "4cab91bb",
   "metadata": {},
   "source": [
    "1. __\"Recall_Score\"Models recall value is very less, which shows the model has high false negative values present, it means the model will predict the patients who has admitted less than 30 days as the patients not admitted less than 30 days__\n",
    "2. __'Number_inpatient' column is highly related to the output column compared to other columns present, which shows that the patients who had visited last year to the hospital has high linearity towards readmitted again__\n",
    "3. __'diag_1' columns is also highly related with the output columns compared with other columns present, which show diagnosis of patients primarily will lead to hospital re-asmission, but we don't know what type of diagnosis exactly because we need to visualize which diagnosia will have high probability in hospital readmission__\n",
    "4. __\"Grid_Search_CV\", grid_search can be applied for every model to select the best hyperparameters and this would incease the model recall score__\n",
    "5. __\"Decision_Tree\", Out of all the models implemented decision tree is the best model of all the models interms of recall score and also F1-score(Precision_Recall_Score)__\n",
    "6. __\"Deep Learning\", Deep Learning can be implemented to evaluate the dataframe and some of the deep learning models have the capability to capture the features__\n",
    "7. __\"Feature_selection\", Even more care should be given for feature selection to produce a good model__\n"
   ]
  },
  {
   "cell_type": "markdown",
   "id": "d3ee638c",
   "metadata": {},
   "source": [
    "### References:\n",
    "\n",
    "1. TowardsDataScience\n",
    "2. MachineLearningMastery\n",
    "3. ResearchArticles\n",
    "4. GeeksforGeeks\n",
    "5. Pandas,ScikitLearn, Matplotlib and other librarires docs"
   ]
  },
  {
   "cell_type": "code",
   "execution_count": null,
   "id": "2bc6b83e",
   "metadata": {},
   "outputs": [],
   "source": []
  }
 ],
 "metadata": {
  "kernelspec": {
   "display_name": "Python 3",
   "language": "python",
   "name": "python3"
  },
  "language_info": {
   "codemirror_mode": {
    "name": "ipython",
    "version": 3
   },
   "file_extension": ".py",
   "mimetype": "text/x-python",
   "name": "python",
   "nbconvert_exporter": "python",
   "pygments_lexer": "ipython3",
   "version": "3.8.8"
  }
 },
 "nbformat": 4,
 "nbformat_minor": 5
}
